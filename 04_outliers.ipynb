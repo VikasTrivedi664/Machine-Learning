{
 "cells": [
  {
   "cell_type": "code",
   "execution_count": 1,
   "metadata": {},
   "outputs": [],
   "source": [
    "# Step 1: Import the required libraries\n",
    "import pandas as pd\n",
    "import numpy as np"
   ]
  },
  {
   "cell_type": "code",
   "execution_count": 2,
   "metadata": {},
   "outputs": [
    {
     "data": {
      "text/html": [
       "<div>\n",
       "<style scoped>\n",
       "    .dataframe tbody tr th:only-of-type {\n",
       "        vertical-align: middle;\n",
       "    }\n",
       "\n",
       "    .dataframe tbody tr th {\n",
       "        vertical-align: top;\n",
       "    }\n",
       "\n",
       "    .dataframe thead th {\n",
       "        text-align: right;\n",
       "    }\n",
       "</style>\n",
       "<table border=\"1\" class=\"dataframe\">\n",
       "  <thead>\n",
       "    <tr style=\"text-align: right;\">\n",
       "      <th></th>\n",
       "      <th>Age</th>\n",
       "    </tr>\n",
       "  </thead>\n",
       "  <tbody>\n",
       "    <tr>\n",
       "      <th>0</th>\n",
       "      <td>20</td>\n",
       "    </tr>\n",
       "    <tr>\n",
       "      <th>1</th>\n",
       "      <td>21</td>\n",
       "    </tr>\n",
       "    <tr>\n",
       "      <th>2</th>\n",
       "      <td>22</td>\n",
       "    </tr>\n",
       "    <tr>\n",
       "      <th>3</th>\n",
       "      <td>23</td>\n",
       "    </tr>\n",
       "    <tr>\n",
       "      <th>4</th>\n",
       "      <td>24</td>\n",
       "    </tr>\n",
       "    <tr>\n",
       "      <th>5</th>\n",
       "      <td>25</td>\n",
       "    </tr>\n",
       "    <tr>\n",
       "      <th>6</th>\n",
       "      <td>26</td>\n",
       "    </tr>\n",
       "    <tr>\n",
       "      <th>7</th>\n",
       "      <td>27</td>\n",
       "    </tr>\n",
       "    <tr>\n",
       "      <th>8</th>\n",
       "      <td>28</td>\n",
       "    </tr>\n",
       "    <tr>\n",
       "      <th>9</th>\n",
       "      <td>29</td>\n",
       "    </tr>\n",
       "    <tr>\n",
       "      <th>10</th>\n",
       "      <td>30</td>\n",
       "    </tr>\n",
       "    <tr>\n",
       "      <th>11</th>\n",
       "      <td>50</td>\n",
       "    </tr>\n",
       "  </tbody>\n",
       "</table>\n",
       "</div>"
      ],
      "text/plain": [
       "    Age\n",
       "0    20\n",
       "1    21\n",
       "2    22\n",
       "3    23\n",
       "4    24\n",
       "5    25\n",
       "6    26\n",
       "7    27\n",
       "8    28\n",
       "9    29\n",
       "10   30\n",
       "11   50"
      ]
     },
     "execution_count": 2,
     "metadata": {},
     "output_type": "execute_result"
    }
   ],
   "source": [
    "# Step 2: Create the data\n",
    "data = pd.DataFrame({'Age': [20, 21, 22, 23, 24, 25, 26, 27, 28, 29, 30, 50]})\n",
    "data\n"
   ]
  },
  {
   "cell_type": "code",
   "execution_count": 3,
   "metadata": {},
   "outputs": [
    {
     "data": {
      "text/plain": [
       "7.543853274171114"
      ]
     },
     "execution_count": 3,
     "metadata": {},
     "output_type": "execute_result"
    }
   ],
   "source": [
    "# Step 3: Calculate the mean and standard deviation\n",
    "mean = np.mean(data['Age'])\n",
    "std = np.std(data['Age'])\n",
    "mean\n",
    "std"
   ]
  },
  {
   "cell_type": "code",
   "execution_count": 4,
   "metadata": {},
   "outputs": [
    {
     "data": {
      "text/html": [
       "<div>\n",
       "<style scoped>\n",
       "    .dataframe tbody tr th:only-of-type {\n",
       "        vertical-align: middle;\n",
       "    }\n",
       "\n",
       "    .dataframe tbody tr th {\n",
       "        vertical-align: top;\n",
       "    }\n",
       "\n",
       "    .dataframe thead th {\n",
       "        text-align: right;\n",
       "    }\n",
       "</style>\n",
       "<table border=\"1\" class=\"dataframe\">\n",
       "  <thead>\n",
       "    <tr style=\"text-align: right;\">\n",
       "      <th></th>\n",
       "      <th>Age</th>\n",
       "      <th>Z-Score</th>\n",
       "    </tr>\n",
       "  </thead>\n",
       "  <tbody>\n",
       "    <tr>\n",
       "      <th>0</th>\n",
       "      <td>20</td>\n",
       "      <td>-0.938954</td>\n",
       "    </tr>\n",
       "    <tr>\n",
       "      <th>1</th>\n",
       "      <td>21</td>\n",
       "      <td>-0.806396</td>\n",
       "    </tr>\n",
       "    <tr>\n",
       "      <th>2</th>\n",
       "      <td>22</td>\n",
       "      <td>-0.673838</td>\n",
       "    </tr>\n",
       "    <tr>\n",
       "      <th>3</th>\n",
       "      <td>23</td>\n",
       "      <td>-0.541280</td>\n",
       "    </tr>\n",
       "    <tr>\n",
       "      <th>4</th>\n",
       "      <td>24</td>\n",
       "      <td>-0.408721</td>\n",
       "    </tr>\n",
       "    <tr>\n",
       "      <th>5</th>\n",
       "      <td>25</td>\n",
       "      <td>-0.276163</td>\n",
       "    </tr>\n",
       "    <tr>\n",
       "      <th>6</th>\n",
       "      <td>26</td>\n",
       "      <td>-0.143605</td>\n",
       "    </tr>\n",
       "    <tr>\n",
       "      <th>7</th>\n",
       "      <td>27</td>\n",
       "      <td>-0.011047</td>\n",
       "    </tr>\n",
       "    <tr>\n",
       "      <th>8</th>\n",
       "      <td>28</td>\n",
       "      <td>0.121512</td>\n",
       "    </tr>\n",
       "    <tr>\n",
       "      <th>9</th>\n",
       "      <td>29</td>\n",
       "      <td>0.254070</td>\n",
       "    </tr>\n",
       "    <tr>\n",
       "      <th>10</th>\n",
       "      <td>30</td>\n",
       "      <td>0.386628</td>\n",
       "    </tr>\n",
       "    <tr>\n",
       "      <th>11</th>\n",
       "      <td>50</td>\n",
       "      <td>3.037793</td>\n",
       "    </tr>\n",
       "  </tbody>\n",
       "</table>\n",
       "</div>"
      ],
      "text/plain": [
       "    Age   Z-Score\n",
       "0    20 -0.938954\n",
       "1    21 -0.806396\n",
       "2    22 -0.673838\n",
       "3    23 -0.541280\n",
       "4    24 -0.408721\n",
       "5    25 -0.276163\n",
       "6    26 -0.143605\n",
       "7    27 -0.011047\n",
       "8    28  0.121512\n",
       "9    29  0.254070\n",
       "10   30  0.386628\n",
       "11   50  3.037793"
      ]
     },
     "execution_count": 4,
     "metadata": {},
     "output_type": "execute_result"
    }
   ],
   "source": [
    "# # Step 4: Calculate the Z-Score\n",
    "data['Z-Score'] = (data['Age'] - mean) / std\n",
    "data"
   ]
  },
  {
   "cell_type": "code",
   "execution_count": 5,
   "metadata": {},
   "outputs": [
    {
     "name": "stdout",
     "output_type": "stream",
     "text": [
      "----------------------------------------\n",
      "Here is the data with outliers:\n",
      "     Age   Z-Score\n",
      "0    20 -0.938954\n",
      "1    21 -0.806396\n",
      "2    22 -0.673838\n",
      "3    23 -0.541280\n",
      "4    24 -0.408721\n",
      "5    25 -0.276163\n",
      "6    26 -0.143605\n",
      "7    27 -0.011047\n",
      "8    28  0.121512\n",
      "9    29  0.254070\n",
      "10   30  0.386628\n",
      "11   50  3.037793\n",
      "----------------------------------------\n",
      "Here are the outliers based on the z-score threshold, 3:\n",
      "     Age   Z-Score\n",
      "11   50  3.037793\n",
      "----------------------------------------\n"
     ]
    }
   ],
   "source": [
    "# # Step 5: Print the data\n",
    "print(\"----------------------------------------\")\n",
    "print(f\"Here is the data with outliers:\\n {data}\")\n",
    "print(\"----------------------------------------\")\n",
    "# Step 6: Print the outliers\n",
    "print(f\"Here are the outliers based on the z-score threshold, 3:\\n {data[data['Z-Score'] > 3]}\")\n",
    "print(\"----------------------------------------\")"
   ]
  },
  {
   "cell_type": "code",
   "execution_count": 6,
   "metadata": {},
   "outputs": [
    {
     "data": {
      "text/html": [
       "<div>\n",
       "<style scoped>\n",
       "    .dataframe tbody tr th:only-of-type {\n",
       "        vertical-align: middle;\n",
       "    }\n",
       "\n",
       "    .dataframe tbody tr th {\n",
       "        vertical-align: top;\n",
       "    }\n",
       "\n",
       "    .dataframe thead th {\n",
       "        text-align: right;\n",
       "    }\n",
       "</style>\n",
       "<table border=\"1\" class=\"dataframe\">\n",
       "  <thead>\n",
       "    <tr style=\"text-align: right;\">\n",
       "      <th></th>\n",
       "      <th>Age</th>\n",
       "      <th>Z-Score</th>\n",
       "    </tr>\n",
       "  </thead>\n",
       "  <tbody>\n",
       "    <tr>\n",
       "      <th>0</th>\n",
       "      <td>20</td>\n",
       "      <td>-0.938954</td>\n",
       "    </tr>\n",
       "    <tr>\n",
       "      <th>1</th>\n",
       "      <td>21</td>\n",
       "      <td>-0.806396</td>\n",
       "    </tr>\n",
       "    <tr>\n",
       "      <th>2</th>\n",
       "      <td>22</td>\n",
       "      <td>-0.673838</td>\n",
       "    </tr>\n",
       "    <tr>\n",
       "      <th>3</th>\n",
       "      <td>23</td>\n",
       "      <td>-0.541280</td>\n",
       "    </tr>\n",
       "    <tr>\n",
       "      <th>4</th>\n",
       "      <td>24</td>\n",
       "      <td>-0.408721</td>\n",
       "    </tr>\n",
       "    <tr>\n",
       "      <th>5</th>\n",
       "      <td>25</td>\n",
       "      <td>-0.276163</td>\n",
       "    </tr>\n",
       "    <tr>\n",
       "      <th>6</th>\n",
       "      <td>26</td>\n",
       "      <td>-0.143605</td>\n",
       "    </tr>\n",
       "    <tr>\n",
       "      <th>7</th>\n",
       "      <td>27</td>\n",
       "      <td>-0.011047</td>\n",
       "    </tr>\n",
       "    <tr>\n",
       "      <th>8</th>\n",
       "      <td>28</td>\n",
       "      <td>0.121512</td>\n",
       "    </tr>\n",
       "    <tr>\n",
       "      <th>9</th>\n",
       "      <td>29</td>\n",
       "      <td>0.254070</td>\n",
       "    </tr>\n",
       "    <tr>\n",
       "      <th>10</th>\n",
       "      <td>30</td>\n",
       "      <td>0.386628</td>\n",
       "    </tr>\n",
       "  </tbody>\n",
       "</table>\n",
       "</div>"
      ],
      "text/plain": [
       "    Age   Z-Score\n",
       "0    20 -0.938954\n",
       "1    21 -0.806396\n",
       "2    22 -0.673838\n",
       "3    23 -0.541280\n",
       "4    24 -0.408721\n",
       "5    25 -0.276163\n",
       "6    26 -0.143605\n",
       "7    27 -0.011047\n",
       "8    28  0.121512\n",
       "9    29  0.254070\n",
       "10   30  0.386628"
      ]
     },
     "execution_count": 6,
     "metadata": {},
     "output_type": "execute_result"
    }
   ],
   "source": [
    "# # Step 7: Remove the outliers\n",
    "data = data[data['Z-Score'] <= 3]\n",
    "data"
   ]
  },
  {
   "cell_type": "code",
   "execution_count": 7,
   "metadata": {},
   "outputs": [
    {
     "name": "stdout",
     "output_type": "stream",
     "text": [
      "Here is the data without outliers:\n",
      "     Age   Z-Score\n",
      "0    20 -0.938954\n",
      "1    21 -0.806396\n",
      "2    22 -0.673838\n",
      "3    23 -0.541280\n",
      "4    24 -0.408721\n",
      "5    25 -0.276163\n",
      "6    26 -0.143605\n",
      "7    27 -0.011047\n",
      "8    28  0.121512\n",
      "9    29  0.254070\n",
      "10   30  0.386628\n"
     ]
    }
   ],
   "source": [
    "# Step 8: Print the data without outliers\n",
    "print(f\"Here is the data without outliers:\\n {data}\")"
   ]
  },
  {
   "cell_type": "code",
   "execution_count": 8,
   "metadata": {},
   "outputs": [],
   "source": [
    "# Import libraries\n",
    "import numpy as np\n",
    "from scipy import stats\n",
    "\n",
    "# # Sample data\n",
    "data = [2.5, 2.7, 2.8, 3.0, 3.2, 3.4, 3.6, 3.8, 4.0, 110.0]\n",
    "\n"
   ]
  },
  {
   "cell_type": "code",
   "execution_count": 9,
   "metadata": {},
   "outputs": [],
   "source": [
    "# Calculate the Z-score for each data point\n",
    "z_scores = np.abs(stats.zscore(data))"
   ]
  },
  {
   "cell_type": "code",
   "execution_count": 10,
   "metadata": {},
   "outputs": [],
   "source": [
    "# Set a threshold for identifying outliers\n",
    "threshold = 2.5 \n",
    "outliers = np.where(z_scores > threshold)[0]"
   ]
  },
  {
   "cell_type": "code",
   "execution_count": 11,
   "metadata": {},
   "outputs": [
    {
     "name": "stdout",
     "output_type": "stream",
     "text": [
      "----------------------------------------\n",
      "Data: [2.5, 2.7, 2.8, 3.0, 3.2, 3.4, 3.6, 3.8, 4.0, 110.0]\n",
      "----------------------------------------\n",
      "Indices of Outliers: [9]\n",
      "Outliers: [110.0]\n"
     ]
    }
   ],
   "source": [
    "# # print the data\n",
    "print(\"----------------------------------------\")\n",
    "print(\"Data:\", data)\n",
    "print(\"----------------------------------------\")\n",
    "print(\"Indices of Outliers:\", outliers)\n",
    "print(\"Outliers:\", [data[i] for i in outliers])"
   ]
  },
  {
   "cell_type": "code",
   "execution_count": 12,
   "metadata": {},
   "outputs": [
    {
     "name": "stdout",
     "output_type": "stream",
     "text": [
      "----------------------------------------\n",
      "Data without outliers: [2.5, 2.7, 2.8, 3.0, 3.2, 3.4, 3.6, 3.8, 4.0]\n"
     ]
    }
   ],
   "source": [
    "# Remove outliers\n",
    "data = [data[i] for i in range(len(data)) if i not in outliers]\n",
    "print(\"----------------------------------------\")\n",
    "print(\"Data without outliers:\", data)"
   ]
  },
  {
   "cell_type": "markdown",
   "metadata": {},
   "source": [
    "# IQR Method"
   ]
  },
  {
   "cell_type": "code",
   "execution_count": 13,
   "metadata": {},
   "outputs": [
    {
     "name": "stdout",
     "output_type": "stream",
     "text": [
      "----------------------------------------\n",
      "Here is the data with outliers:\n",
      "     Age\n",
      "0    20\n",
      "1    21\n",
      "2    22\n",
      "3    23\n",
      "4    24\n",
      "5    25\n",
      "6    26\n",
      "7    27\n",
      "8    28\n",
      "9    29\n",
      "10   30\n",
      "11   50\n",
      "----------------------------------------\n",
      "Here are the outliers based on the IQR threshold:\n",
      "     Age\n",
      "11   50\n",
      "----------------------------------------\n",
      "Here is the data without outliers:\n",
      "     Age\n",
      "0    20\n",
      "1    21\n",
      "2    22\n",
      "3    23\n",
      "4    24\n",
      "5    25\n",
      "6    26\n",
      "7    27\n",
      "8    28\n",
      "9    29\n",
      "10   30\n"
     ]
    }
   ],
   "source": [
    "# # Step 1: Import the required libraries\n",
    "import pandas as pd\n",
    "import numpy as np\n",
    "\n",
    "# Step 2: Create the data\n",
    "data = pd.DataFrame({'Age': [20, 21, 22, 23, 24, 25, 26, 27, 28, 29, 30, 50]})\n",
    "\n",
    "# Step 3: Calculate the first and third quartile\n",
    "Q1 = np.percentile(data['Age'], 25, interpolation = 'midpoint')\n",
    "Q3 = np.percentile(data['Age'], 75, interpolation = 'midpoint')\n",
    "\n",
    "# Step 4: Calculate the IQR\n",
    "IQR = Q3 - Q1\n",
    "\n",
    "# Step 5: Calculate the lower and upper bound\n",
    "lower_bound = Q1 - (1.5 * IQR)\n",
    "upper_bound = Q3 + (1.5 * IQR)\n",
    "\n",
    "# Step 6: Print the data\n",
    "print(\"----------------------------------------\")\n",
    "print(f\"Here is the data with outliers:\\n {data}\")\n",
    "print(\"----------------------------------------\")\n",
    "# Step 7: Print the outliers\n",
    "print(f\"Here are the outliers based on the IQR threshold:\\n {data[(data['Age'] < lower_bound) | (data['Age'] > upper_bound)]}\")\n",
    "print(\"----------------------------------------\")\n",
    "# Step 8: Remove the outliers\n",
    "data = data[(data['Age'] >= lower_bound) & (data['Age'] <= upper_bound)]\n",
    "\n",
    "# Step 9: Print the data without outliers\n",
    "print(f\"Here is the data without outliers:\\n {data}\")"
   ]
  },
  {
   "cell_type": "code",
   "execution_count": 14,
   "metadata": {},
   "outputs": [
    {
     "name": "stdout",
     "output_type": "stream",
     "text": [
      "----------------------------------------\n",
      "Here is the data with outliers:\n",
      "     Age\n",
      "0    20\n",
      "1    21\n",
      "2    22\n",
      "3    23\n",
      "4    24\n",
      "5    25\n",
      "6    26\n",
      "7    27\n",
      "8    28\n",
      "9    29\n",
      "10   30\n",
      "11   50\n",
      "----------------------------------------\n",
      "Here are the outliers based on the IQR threshold:\n",
      "     Age\n",
      "11   50\n",
      "----------------------------------------\n",
      "Here is the data without outliers:\n",
      "     Age\n",
      "0    20\n",
      "1    21\n",
      "2    22\n",
      "3    23\n",
      "4    24\n",
      "5    25\n",
      "6    26\n",
      "7    27\n",
      "8    28\n",
      "9    29\n",
      "10   30\n"
     ]
    }
   ],
   "source": [
    "# # Step 1: Import the required libraries\n",
    "# import pandas as pd\n",
    "# import numpy as np\n",
    "\n",
    "# # Step 2: Create the data\n",
    "data = pd.DataFrame({'Age': [20, 21, 22, 23, 24, 25, 26, 27, 28, 29, 30, 50]})\n",
    "\n",
    "# Step 3: Calculate the first and third quartile\n",
    "Q1 = np.percentile(data['Age'], 25, interpolation = 'midpoint')\n",
    "Q3 = np.percentile(data['Age'], 75, interpolation = 'midpoint')\n",
    "\n",
    "# Step 4: Calculate the IQR\n",
    "IQR = Q3 - Q1\n",
    "\n",
    "# Step 5: Calculate the lower and upper bound\n",
    "lower_bound = Q1 - (1.5 * IQR)\n",
    "upper_bound = Q3 + (1.5 * IQR)\n",
    "\n",
    "# Step 6: Print the data\n",
    "print(\"----------------------------------------\")\n",
    "print(f\"Here is the data with outliers:\\n {data}\")\n",
    "print(\"----------------------------------------\")\n",
    "# Step 7: Print the outliers\n",
    "print(f\"Here are the outliers based on the IQR threshold:\\n {data[(data['Age'] < lower_bound) | (data['Age'] > upper_bound)]}\")\n",
    "print(\"----------------------------------------\")\n",
    "# Step 8: Remove the outliers\n",
    "data = data[(data['Age'] >= lower_bound) & (data['Age'] <= upper_bound)]\n",
    "\n",
    "# Step 9: Print the data without outliers\n",
    "print(f\"Here is the data without outliers:\\n {data}\")"
   ]
  },
  {
   "cell_type": "code",
   "execution_count": 15,
   "metadata": {},
   "outputs": [
    {
     "name": "stdout",
     "output_type": "stream",
     "text": [
      "----------------------------------------\n",
      "Here is the data with outliers:\n",
      "     Age\n",
      "0    20\n",
      "1    21\n",
      "2    22\n",
      "3    23\n",
      "4    24\n",
      "5    25\n",
      "6    26\n",
      "7    27\n",
      "8    28\n",
      "9    29\n",
      "10   30\n",
      "11   50\n",
      "----------------------------------------\n",
      "Here are the outliers based on the IQR threshold:\n",
      "     Age\n",
      "11   50\n",
      "----------------------------------------\n",
      "Here is the data without outliers:\n",
      "     Age\n",
      "0    20\n",
      "1    21\n",
      "2    22\n",
      "3    23\n",
      "4    24\n",
      "5    25\n",
      "6    26\n",
      "7    27\n",
      "8    28\n",
      "9    29\n",
      "10   30\n"
     ]
    }
   ],
   "source": [
    "# # Step 1: Import the required libraries\n",
    "# import pandas as pd\n",
    "# import numpy as np\n",
    "\n",
    "# # Step 2: Create the data\n",
    "data = pd.DataFrame({'Age': [20, 21, 22, 23, 24, 25, 26, 27, 28, 29, 30, 50]})\n",
    "\n",
    "# Step 3: Calculate the first and third quartile\n",
    "Q1 = np.percentile(data['Age'], 25, interpolation = 'midpoint')\n",
    "Q3 = np.percentile(data['Age'], 75, interpolation = 'midpoint')\n",
    "\n",
    "# Step 4: Calculate the IQR\n",
    "IQR = Q3 - Q1\n",
    "\n",
    "# Step 5: Calculate the lower and upper bound\n",
    "lower_bound = Q1 - (1.5 * IQR)\n",
    "upper_bound = Q3 + (1.5 * IQR)\n",
    "\n",
    "# Step 6: Print the data\n",
    "print(\"----------------------------------------\")\n",
    "print(f\"Here is the data with outliers:\\n {data}\")\n",
    "print(\"----------------------------------------\")\n",
    "# Step 7: Print the outliers\n",
    "print(f\"Here are the outliers based on the IQR threshold:\\n {data[(data['Age'] < lower_bound) | (data['Age'] > upper_bound)]}\")\n",
    "print(\"----------------------------------------\")\n",
    "# Step 8: Remove the outliers\n",
    "data = data[(data['Age'] >= lower_bound) & (data['Age'] <= upper_bound)]\n",
    "\n",
    "# Step 9: Print the data without outliers\n",
    "print(f\"Here is the data without outliers:\\n {data}\")"
   ]
  },
  {
   "cell_type": "code",
   "execution_count": 16,
   "metadata": {},
   "outputs": [
    {
     "name": "stdout",
     "output_type": "stream",
     "text": [
      "----------------------------------------\n",
      "Here is the data with outliers:\n",
      "     Age\n",
      "0    20\n",
      "1    21\n",
      "2    22\n",
      "3    23\n",
      "4    24\n",
      "5    25\n",
      "6    26\n",
      "7    27\n",
      "8    28\n",
      "9    29\n",
      "10   30\n",
      "11   50\n",
      "----------------------------------------\n",
      "Here are the outliers based on the IQR threshold:\n",
      "     Age\n",
      "11   50\n",
      "----------------------------------------\n",
      "Here is the data without outliers:\n",
      "     Age\n",
      "0    20\n",
      "1    21\n",
      "2    22\n",
      "3    23\n",
      "4    24\n",
      "5    25\n",
      "6    26\n",
      "7    27\n",
      "8    28\n",
      "9    29\n",
      "10   30\n"
     ]
    }
   ],
   "source": [
    "# Step 1: Import the required libraries\n",
    "# import pandas as pd\n",
    "# import numpy as np\n",
    "\n",
    "# # Step 2: Create the data\n",
    "data = pd.DataFrame({'Age': [20, 21, 22, 23, 24, 25, 26, 27, 28, 29, 30, 50]})\n",
    "\n",
    "# Step 3: Calculate the first and third quartile\n",
    "Q1 = np.percentile(data['Age'], 25, interpolation = 'midpoint')\n",
    "Q3 = np.percentile(data['Age'], 75, interpolation = 'midpoint')\n",
    "\n",
    "# Step 4: Calculate the IQR\n",
    "IQR = Q3 - Q1\n",
    "\n",
    "# Step 5: Calculate the lower and upper bound\n",
    "lower_bound = Q1 - (1.5 * IQR)\n",
    "upper_bound = Q3 + (1.5 * IQR)\n",
    "\n",
    "# Step 6: Print the data\n",
    "print(\"----------------------------------------\")\n",
    "print(f\"Here is the data with outliers:\\n {data}\")\n",
    "print(\"----------------------------------------\")\n",
    "# Step 7: Print the outliers\n",
    "print(f\"Here are the outliers based on the IQR threshold:\\n {data[(data['Age'] < lower_bound) | (data['Age'] > upper_bound)]}\")\n",
    "print(\"----------------------------------------\")\n",
    "# Step 8: Remove the outliers\n",
    "data = data[(data['Age'] >= lower_bound) & (data['Age'] <= upper_bound)]\n",
    "\n",
    "# Step 9: Print the data without outliers\n",
    "print(f\"Here is the data without outliers:\\n {data}\")"
   ]
  },
  {
   "cell_type": "code",
   "execution_count": 17,
   "metadata": {},
   "outputs": [
    {
     "name": "stdout",
     "output_type": "stream",
     "text": [
      "----------------------------------------\n",
      "Here is the data with outliers:\n",
      "     Age\n",
      "0    20\n",
      "1    21\n",
      "2    22\n",
      "3    23\n",
      "4    24\n",
      "5    25\n",
      "6    26\n",
      "7    27\n",
      "8    28\n",
      "9    29\n",
      "10   30\n",
      "11   50\n",
      "----------------------------------------\n",
      "Here are the outliers based on the IQR threshold:\n",
      "     Age\n",
      "11   50\n",
      "----------------------------------------\n",
      "Here is the data without outliers:\n",
      "     Age\n",
      "0    20\n",
      "1    21\n",
      "2    22\n",
      "3    23\n",
      "4    24\n",
      "5    25\n",
      "6    26\n",
      "7    27\n",
      "8    28\n",
      "9    29\n",
      "10   30\n"
     ]
    }
   ],
   "source": [
    "# Step 1: Import the required libraries\n",
    "import pandas as pd\n",
    "import numpy as np\n",
    "\n",
    "# Step 2: Create the data\n",
    "data = pd.DataFrame({'Age': [20, 21, 22, 23, 24, 25, 26, 27, 28, 29, 30, 50]})\n",
    "\n",
    "# Step 3: Calculate the first and third quartile\n",
    "Q1 = np.percentile(data['Age'], 25, interpolation = 'midpoint')\n",
    "Q3 = np.percentile(data['Age'], 75, interpolation = 'midpoint')\n",
    "\n",
    "# Step 4: Calculate the IQR\n",
    "IQR = Q3 - Q1\n",
    "\n",
    "# Step 5: Calculate the lower and upper bound\n",
    "lower_bound = Q1 - (1.5 * IQR)\n",
    "upper_bound = Q3 + (1.5 * IQR)\n",
    "\n",
    "# Step 6: Print the data\n",
    "print(\"----------------------------------------\")\n",
    "print(f\"Here is the data with outliers:\\n {data}\")\n",
    "print(\"----------------------------------------\")\n",
    "# Step 7: Print the outliers\n",
    "print(f\"Here are the outliers based on the IQR threshold:\\n {data[(data['Age'] < lower_bound) | (data['Age'] > upper_bound)]}\")\n",
    "print(\"----------------------------------------\")\n",
    "# Step 8: Remove the outliers\n",
    "data = data[(data['Age'] >= lower_bound) & (data['Age'] <= upper_bound)]\n",
    "\n",
    "# Step 9: Print the data without outliers\n",
    "print(f\"Here is the data without outliers:\\n {data}\")"
   ]
  },
  {
   "cell_type": "markdown",
   "metadata": {},
   "source": [
    " ## K-means clustering"
   ]
  },
  {
   "cell_type": "code",
   "execution_count": 21,
   "metadata": {},
   "outputs": [],
   "source": [
    "# Import library\n",
    "from sklearn.cluster import KMeans\n",
    "\n",
    "# # Sample data\n",
    "data = [[2, 2], [3, 3], [3, 4], [30, 30], [31, 31], [32, 32]]"
   ]
  },
  {
   "cell_type": "code",
   "execution_count": 22,
   "metadata": {},
   "outputs": [
    {
     "data": {
      "text/html": [
       "<style>#sk-container-id-1 {color: black;}#sk-container-id-1 pre{padding: 0;}#sk-container-id-1 div.sk-toggleable {background-color: white;}#sk-container-id-1 label.sk-toggleable__label {cursor: pointer;display: block;width: 100%;margin-bottom: 0;padding: 0.3em;box-sizing: border-box;text-align: center;}#sk-container-id-1 label.sk-toggleable__label-arrow:before {content: \"▸\";float: left;margin-right: 0.25em;color: #696969;}#sk-container-id-1 label.sk-toggleable__label-arrow:hover:before {color: black;}#sk-container-id-1 div.sk-estimator:hover label.sk-toggleable__label-arrow:before {color: black;}#sk-container-id-1 div.sk-toggleable__content {max-height: 0;max-width: 0;overflow: hidden;text-align: left;background-color: #f0f8ff;}#sk-container-id-1 div.sk-toggleable__content pre {margin: 0.2em;color: black;border-radius: 0.25em;background-color: #f0f8ff;}#sk-container-id-1 input.sk-toggleable__control:checked~div.sk-toggleable__content {max-height: 200px;max-width: 100%;overflow: auto;}#sk-container-id-1 input.sk-toggleable__control:checked~label.sk-toggleable__label-arrow:before {content: \"▾\";}#sk-container-id-1 div.sk-estimator input.sk-toggleable__control:checked~label.sk-toggleable__label {background-color: #d4ebff;}#sk-container-id-1 div.sk-label input.sk-toggleable__control:checked~label.sk-toggleable__label {background-color: #d4ebff;}#sk-container-id-1 input.sk-hidden--visually {border: 0;clip: rect(1px 1px 1px 1px);clip: rect(1px, 1px, 1px, 1px);height: 1px;margin: -1px;overflow: hidden;padding: 0;position: absolute;width: 1px;}#sk-container-id-1 div.sk-estimator {font-family: monospace;background-color: #f0f8ff;border: 1px dotted black;border-radius: 0.25em;box-sizing: border-box;margin-bottom: 0.5em;}#sk-container-id-1 div.sk-estimator:hover {background-color: #d4ebff;}#sk-container-id-1 div.sk-parallel-item::after {content: \"\";width: 100%;border-bottom: 1px solid gray;flex-grow: 1;}#sk-container-id-1 div.sk-label:hover label.sk-toggleable__label {background-color: #d4ebff;}#sk-container-id-1 div.sk-serial::before {content: \"\";position: absolute;border-left: 1px solid gray;box-sizing: border-box;top: 0;bottom: 0;left: 50%;z-index: 0;}#sk-container-id-1 div.sk-serial {display: flex;flex-direction: column;align-items: center;background-color: white;padding-right: 0.2em;padding-left: 0.2em;position: relative;}#sk-container-id-1 div.sk-item {position: relative;z-index: 1;}#sk-container-id-1 div.sk-parallel {display: flex;align-items: stretch;justify-content: center;background-color: white;position: relative;}#sk-container-id-1 div.sk-item::before, #sk-container-id-1 div.sk-parallel-item::before {content: \"\";position: absolute;border-left: 1px solid gray;box-sizing: border-box;top: 0;bottom: 0;left: 50%;z-index: -1;}#sk-container-id-1 div.sk-parallel-item {display: flex;flex-direction: column;z-index: 1;position: relative;background-color: white;}#sk-container-id-1 div.sk-parallel-item:first-child::after {align-self: flex-end;width: 50%;}#sk-container-id-1 div.sk-parallel-item:last-child::after {align-self: flex-start;width: 50%;}#sk-container-id-1 div.sk-parallel-item:only-child::after {width: 0;}#sk-container-id-1 div.sk-dashed-wrapped {border: 1px dashed gray;margin: 0 0.4em 0.5em 0.4em;box-sizing: border-box;padding-bottom: 0.4em;background-color: white;}#sk-container-id-1 div.sk-label label {font-family: monospace;font-weight: bold;display: inline-block;line-height: 1.2em;}#sk-container-id-1 div.sk-label-container {text-align: center;}#sk-container-id-1 div.sk-container {/* jupyter's `normalize.less` sets `[hidden] { display: none; }` but bootstrap.min.css set `[hidden] { display: none !important; }` so we also need the `!important` here to be able to override the default hidden behavior on the sphinx rendered scikit-learn.org. See: https://github.com/scikit-learn/scikit-learn/issues/21755 */display: inline-block !important;position: relative;}#sk-container-id-1 div.sk-text-repr-fallback {display: none;}</style><div id=\"sk-container-id-1\" class=\"sk-top-container\"><div class=\"sk-text-repr-fallback\"><pre>KMeans(n_clusters=2, n_init=10)</pre><b>In a Jupyter environment, please rerun this cell to show the HTML representation or trust the notebook. <br />On GitHub, the HTML representation is unable to render, please try loading this page with nbviewer.org.</b></div><div class=\"sk-container\" hidden><div class=\"sk-item\"><div class=\"sk-estimator sk-toggleable\"><input class=\"sk-toggleable__control sk-hidden--visually\" id=\"sk-estimator-id-1\" type=\"checkbox\" checked><label for=\"sk-estimator-id-1\" class=\"sk-toggleable__label sk-toggleable__label-arrow\">KMeans</label><div class=\"sk-toggleable__content\"><pre>KMeans(n_clusters=2, n_init=10)</pre></div></div></div></div></div>"
      ],
      "text/plain": [
       "KMeans(n_clusters=2, n_init=10)"
      ]
     },
     "execution_count": 22,
     "metadata": {},
     "output_type": "execute_result"
    }
   ],
   "source": [
    "# # Create a K-means model with two clusters (normal and outlier)\n",
    "kmeans = KMeans(n_clusters=2, n_init=10)\n",
    "kmeans.fit(data)\n"
   ]
  },
  {
   "cell_type": "code",
   "execution_count": 23,
   "metadata": {},
   "outputs": [],
   "source": [
    "# Predict cluster labels\n",
    "labels = kmeans.predict(data)"
   ]
  },
  {
   "cell_type": "code",
   "execution_count": 24,
   "metadata": {},
   "outputs": [],
   "source": [
    "# Identify outliers based on cluster labels\n",
    "outliers = [data[i] for i, label in enumerate(labels) if label == 1]\n"
   ]
  },
  {
   "cell_type": "code",
   "execution_count": 25,
   "metadata": {},
   "outputs": [
    {
     "name": "stdout",
     "output_type": "stream",
     "text": [
      "Data: [[2, 2], [3, 3], [3, 4], [30, 30], [31, 31], [32, 32]]\n",
      "Outliers: [[2, 2], [3, 3], [3, 4]]\n"
     ]
    }
   ],
   "source": [
    "# print data\n",
    "print(\"Data:\", data)\n",
    "print(\"Outliers:\", outliers)"
   ]
  },
  {
   "cell_type": "code",
   "execution_count": 27,
   "metadata": {},
   "outputs": [
    {
     "name": "stdout",
     "output_type": "stream",
     "text": [
      "Data without outliers: [[30, 30], [31, 31], [32, 32]]\n"
     ]
    }
   ],
   "source": [
    "# Remove outliers\n",
    "data = [data[i] for i, label in enumerate(labels) if label == 0]\n",
    "print(\"Data without outliers:\", data)"
   ]
  }
 ],
 "metadata": {
  "kernelspec": {
   "display_name": "Python 3",
   "language": "python",
   "name": "python3"
  },
  "language_info": {
   "codemirror_mode": {
    "name": "ipython",
    "version": 3
   },
   "file_extension": ".py",
   "mimetype": "text/x-python",
   "name": "python",
   "nbconvert_exporter": "python",
   "pygments_lexer": "ipython3",
   "version": "3.10.0"
  }
 },
 "nbformat": 4,
 "nbformat_minor": 2
}
